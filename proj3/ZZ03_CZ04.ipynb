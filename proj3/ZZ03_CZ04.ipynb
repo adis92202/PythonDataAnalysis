{
 "cells": [
  {
   "cell_type": "markdown",
   "id": "9cf5962f",
   "metadata": {
    "deletable": false,
    "editable": false,
    "nbgrader": {
     "cell_type": "markdown",
     "checksum": "4d87ed846e09cbf1c8eae4e0f16bea9b",
     "grade": false,
     "grade_id": "cell-fcd2666579131b77",
     "locked": true,
     "schema_version": 3,
     "solution": false,
     "task": false
    },
    "tags": []
   },
   "source": [
    "# Analiza danych w języku Python - ćwiczenia laboratoryjne 2022/2023\n",
    "\n",
    "Ten notatnik zalicza się do grupy zestawów zadań, na podstawie których odbywa się zaliczenie ćwiczeń i podlega zwrotowi do oceny w ustalonym na zajęciach terminie.\n",
    "\n",
    "Uwagi i wytyczne ogólne dotyczące uzupełniania i oceny notatnika:\n",
    "- Podczas wykonywania zadań należy korzystać wyłącznie z pakietów zaimportowanych na początku notatnika oraz z pakietów wchodzących w skład standardowej biblioteki Pythona, które można zaimportować samodzielnie we wskazanej komórce notatnika.\n",
    "- Swoje rozwiązania należy wprowadzać wyłącznie w miejce następujących fragmentów kodu:<br/> `# YOUR CODE HERE`<br/> `raise NotImplementedError()`<br/> \n",
    "a odpowiedzi tekstowe w komórkach oznaczonych hasłem:<br/> \n",
    "`YOUR ANSWER HERE`<br/> \n",
    "Nie należy w żaden sposób modyfikować pozostałych fragmentów kodu oraz innych elementów notatnika, w szczególności dodawać lub usuwać komórek oraz zmieniać nazwy pliku.\n",
    "- Jeżeli zestaw zadań wymaga skorzystania z fragmentów kodu opracowanego w ramach wcześniejszych zestawów zadań należy je umieścić we wskazanej komórce notatnika.\n",
    "- Otrzymywane wyniki i odpowiedzi mają być rezultatem wykonania napisanego kodu, odpowiedzi uzupełniane manualnie nie podlegają ocenie.\n",
    "- Zadanie należy wykonać w taki sposób, aby podczas wykonywania kodu nie zostały wyświetlone żadne ostrzeżenia.\n",
    "- Zawarte w notatniku automatyczne testy mają charakter poglądowy. Dotyczą one wybranych aspektów zadań i mają za zadanie wyłapać podstawowe błędy. Przejście wszystkich testów nie oznacza, że zadanie jest wykonane w całości poprawnie i zostanie ocenione na maksymalną liczbę punktów.\n",
    "- Zadania, które powodują wyświetlenie komunikatu o błędzie przerywającym wykonywanie kodu nie podlegają ocenie.\n",
    "\n",
    "Uwagi i wytyczne ogólne dotyczące wizualizacji wyników:\n",
    "- Wszystkie wykresy powinny być wykonane w jednolitym, przejrzystym i czytelnym stylu, posiadać odpowiednio dobrane proporcje i zakresy wartości osi.\n",
    "- Wykresy oraz ich osie powinny mieć nadane tytuły. Jeżeli w obrębie figury znajduje się więcej niż jeden wykres to figura również powinna mieć nadany tytuł. \n",
    "- Figury powinny mieć ustawione białe tło, tak, aby niezależnie od ustawień notatnika wszystkie elementy wykresów były dobrze widoczne (domyślnie tło jest przeźroczyste co może powodować problemy w notatnikach z ustawionym ciemnym tłem).\n",
    "- Rozmiar poziomy figur nie powinien przekraczać 20 cali.\n",
    "\n",
    "Przed odesłaniem zestawu zadań do oceny proszę uzupełnić komórkę z danymi autorów rozwiązania (`NAME` - nazwa zespołu, `COLLABORATORS` - imiona, nazwiska i numery indeksów członków zespołu) oraz upewnić się, że notatnik działa zgodnie z oczekiwaniami. W tym celu należy skorzystać z opcji **Restart Kernel and Run All Cells...** dostępnej na górnej belce notatnika pod symbolem $\\blacktriangleright\\blacktriangleright$."
   ]
  },
  {
   "cell_type": "code",
   "execution_count": 1,
   "id": "c986566b",
   "metadata": {},
   "outputs": [],
   "source": [
    "NAME = \"IAD21\"\n",
    "COLLABORATORS = \"Ewa Szewczyk 406923, Adam Piwowarski 408133\""
   ]
  },
  {
   "cell_type": "markdown",
   "id": "40e8aab2",
   "metadata": {
    "deletable": false,
    "editable": false,
    "nbgrader": {
     "cell_type": "markdown",
     "checksum": "eddc8826810e4a6f7bf68319da334bd9",
     "grade": false,
     "grade_id": "cell-109006d425e5cf83",
     "locked": true,
     "schema_version": 3,
     "solution": false,
     "task": false
    },
    "tags": []
   },
   "source": [
    "---"
   ]
  },
  {
   "cell_type": "markdown",
   "id": "3dc8b5f1-8b22-4781-876f-27826679533d",
   "metadata": {
    "deletable": false,
    "editable": false,
    "nbgrader": {
     "cell_type": "markdown",
     "checksum": "cf47339c6e0a9533830524800e5ebaa3",
     "grade": false,
     "grade_id": "cell-a12f05a1065ccf65",
     "locked": true,
     "schema_version": 3,
     "solution": false,
     "task": false
    },
    "tags": []
   },
   "source": [
    "## Zestaw zadań 3: Elementy statystyki opisowej 3 (Notatnik 4/4)"
   ]
  },
  {
   "cell_type": "code",
   "execution_count": 2,
   "id": "a0f0ba49-958b-41f6-befc-cf77d7364345",
   "metadata": {
    "deletable": false,
    "editable": false,
    "nbgrader": {
     "cell_type": "code",
     "checksum": "9c1f9f1a79efb2ea5cdbaa8129434777",
     "grade": false,
     "grade_id": "cell-50608d099c9a113d",
     "locked": true,
     "schema_version": 3,
     "solution": false,
     "task": false
    },
    "tags": []
   },
   "outputs": [],
   "source": [
    "import numpy as np\n",
    "import pandas as pd\n",
    "import scipy as sp\n",
    "import matplotlib as mpl\n",
    "import matplotlib.pyplot as plt\n",
    "import seaborn as sns\n",
    "import dataframe_image as dfi"
   ]
  },
  {
   "cell_type": "code",
   "execution_count": 3,
   "id": "3afcbcf4-e4a1-4435-a432-bbc51129910d",
   "metadata": {
    "tags": []
   },
   "outputs": [],
   "source": [
    "# Miejsce do importu pakietów wchodzących w skład standardowej biblioteki Pythona oraz ustawienie opcji wykorzystywanych pakietów"
   ]
  },
  {
   "cell_type": "markdown",
   "id": "73cb2852-79f3-4f76-9303-a091a9be7623",
   "metadata": {
    "deletable": false,
    "editable": false,
    "nbgrader": {
     "cell_type": "markdown",
     "checksum": "c8a3387fecf14ec08412e86c0b053249",
     "grade": false,
     "grade_id": "cell-7e0c91af7d9408af",
     "locked": true,
     "schema_version": 3,
     "solution": false,
     "task": false
    },
    "tags": []
   },
   "source": [
    "### Zadanie 6: Analiza wyników [15 pkt]\n",
    "Scharakteryzuj ruch rowerowy moście Fremont Bridge w Seattle w 2022 roku na podstawie wyników analizy przeprowadzonej we wcześniejszych zadaniach zgodnie z poniższymi wytycznymi:\n",
    "- Umieść treść analizy w pojedynczej komórce Markdown. Oprócz tekstu wklej do niej wszystkie wykresy i tablice, do których odnosi się analiza.\n",
    "- Zawrzyj w analizie wnioski odnośnie zmian w natężeniu ruchu rowerowego w ciągu roku, w poszczególnych dniach tygodnia, w dni robocze i weekendy (tygodniowy charakter ruchu) oraz w poszczególnych godzinach z podziałem na dni robocze i weekendy (dzienny charakter ruchu).\n",
    "- Jeżeli dane wskazują na różnicę w charakterze ruchu pomiędzy wschodnią i zachodnią stroną mostu należy zawrzeć w analizie tę informację oraz wyciągnięte na jej podstawie wnioski.\n",
    "- Dokonaj analizy wpływu pogody na natężenie ruchu rowerowego.\n",
    "- Nie ograniczaj się wyłącznie do stwierdzeń typu \"średnia liczba osób przejeżdżających przez most w poniedziałki była niższa niż średnia liczba osób przejeżdżających przez most we wtorki\", tam gdzie to możliwe spróbuj wyciągnąć szersze, dalej idące wnioski o badanym zjawisku.\n",
    "- Wskaż problemy w analizie przeprowadzonej w ramach wykonanych wcześniej zadań i zaproponuj jakie zmiany należy do niej wprowadzić w celu ich rozwiązania.\n",
    "- Jeżeli widzisz taką potrzebę możesz wygenerować dodatkowe tablice i grafiki, w takim przypadku generujący je kod powinien zostać umieszczony w komórce poprzedzającej komórkę z treścią analizy.\n",
    "\n",
    "Wskazówki dotyczące pozyskiwania i wklejania grafik do komórki markdown:\n",
    "- przygotowane wykresy można zapisać do plików za pomocą kodu: `fig.savefig('image.png')`, gdzie `fig` to zmienna zawierająca wykres przygotowany z wykorzystaniem `plt.subplots()`, a `'image.png'` to nazwa pliku, do którego ma zostać zapisana.\n",
    "- przygotowane tablice można zapisać do plików za pomocą kodu: `dfi.export(styled_df, 'df.png')`, gdzie `styled_df` to zmienna zawierająca odpowiednio sformatowaną tablicę, a `'df.png'` to nazwa pliku, do którego ma zostać zapisana.\n",
    "- zapisane do plików grafiki można wklejać do komórki markdown za pomocą następującej formuły: `![](table.png)`, gdzie `table.png` to nazwa pliku, do którego ma zostać wstawiony do komórki.\n",
    "\n",
    "Po wygenerowaniu plików z grafikami nie należy uzuwać z notatników kodu wykorzystanego podczas ich przygotowywania, w tym formuł `fig.savefig()` i `dfi.export()`."
   ]
  },
  {
   "cell_type": "code",
   "execution_count": 4,
   "id": "e789ed69-15b2-4b3e-8ff0-41e7137b6f60",
   "metadata": {
    "tags": []
   },
   "outputs": [],
   "source": [
    "# Miejsce na dodatkowy kod"
   ]
  },
  {
   "cell_type": "markdown",
   "id": "79045acb-3c92-4e3e-a418-d020c5375d69",
   "metadata": {
    "deletable": false,
    "nbgrader": {
     "cell_type": "markdown",
     "checksum": "aeaa48637c159e037354ad072c54f33c",
     "grade": true,
     "grade_id": "cell-152c404baa500092",
     "locked": false,
     "points": 15,
     "schema_version": 3,
     "solution": true,
     "task": false
    },
    "tags": []
   },
   "source": [
    "# Ruch rowerowy moście Fremont Bridge w Seattle w 2022 roku\n",
    "\n",
    "Jazda rowerem, do pracy, czy dla przyjemności, niezmiennie zależy od warunków pogodowych jak i od pory dnia. Dlatego też, bazując na danych dotyczących ruchu rowerowego na moście Fremont Bridge w Seattle z 2022 roku oraz danych pogodowych z tegoż okresu spróbujemy zbadać zależności między różnymi czynnikami pogodowymi oraz porami dnia i tygodnia, a ruchem rowerowym.\n",
    "\n",
    "---\n",
    "### Przedstawienie danych\n",
    "\n",
    "<br />\n",
    "\n",
    "![](bike_traffic_by_weekday.png)\n",
    "<br /> *Średnia liczba rowerzystów przejeżdżających przez most w poszczególnych dniach tygodnia* <br />\n",
    "    \n",
    "Z powyższej tabeli można wyczytać, że zdecydowanie więcej rowerzystów wybiera zachodnią stronę mostu. Być może wynika to z lepszej jakości trasy rowerowej po tej stronie mostu, a może z ładniejszego widoku z tej perspektywy. To co możemy na pewno stwierdzić, to to, że zdecydowanie większy ruch występuje średnio w dni robocze, ponieważ mieszkańcy wybierają rower jako środek transportu do pracy oraz szkoły. W weekendy ruch także utrzymuje się na wysokim poziomie, jednak o około 20% mniejszym (głównie na zachodniej stronie) - można tu stwierdzić, że więcej ludzi jednak używa roweru jako narzędzia w codziennym poruszaniu się, niż do przyjemnych weekendowych wycieczek, a zachodnia strona mostu odgrywa tu niebagatelną rolę. <br /> <br />\n",
    "    \n",
    "![](weekday_weekend_hourly_bike_traffic.png)\n",
    "<br /> *Średnia liczba rowerzystów przejeżdżających przez most w poszczególnych godzinach z podziałem na dni robocze i weekendy* <br />\n",
    "    \n",
    "Prezentowany podział na godziny aż nadto potwierdza wysnutą poprzednio hipotezę dotyczącą jeżdżenia rowerem do pracy: między 7 a 9 rano oraz 16 a 18 widać zdecydowany wzrost natężenia ruchu rowerowego, ponieważ są to godziny początku i końca typowych godzin pracy (9-17). W weekendy natomiast, ruch rozkłada się bardziej równomiernie, oczywiście z wyłączeniem godzin nocnych. W leniwe weekendy, gdy ludzie mogą wstać nieco później i jeździć rowerem już raczej dla przyjemności, ruch rozpoczyna się około godziny 10 rano, a wygasza się około godziny 20.\n",
    "    \n",
    "![](daily_byweekday_weekend_weekday.png)\n",
    "<br /> <center>*Wykresy ruchu rowerowego na moście*<center/> <br />\n",
    "\n",
    "Powyżej przedstawiono wizualizacje omówionych uprzednio danych, dodając do tego wizualizację ruchu rowerowego w poszczególnych dniach roku. Z górnego wykresu można wywnioskować, że ruch rowerowy zależy najprawdopodobniej nie tylko od zależności czy to dzień roboczy czy weekend oraz która jest godzina, ale także od pory roku, a co za tym idzie - pogody. W miesiącach letnich, dla półkuli odpowiadających Seattle, całkowity ruch rowerowy przez most oscyluje średnio w okolicach 3000-3500 rowerzystów. W miesiące chłodniejsze natomiast jest to bardziej między 1000 a 2000. <br />\n",
    "Z wykresu umieszczonego w lewym dolnym rogu, można ponownie odczytać, że większy ruch rowerowy występuje w dni robocze, co ciekawe z maksimum we wtorki. Wykres na prawo od niego także wykazuje taką korelację, ponieważ ma wyraźne piki w godzinach komunikacji do i z pracy. W weekendy za to, jak to zostało wcześniej wspomniane, rozkład średniego ruchu bardziej przypomina rozkład Gaussa, z ogonami w godzinach nocnych.\n",
    "    \n",
    "![](weather_plot.png)\n",
    "<br /> <center>*Wykresy parametrów pogodowych*<center/> <br />\n",
    "\n",
    "Tutaj mamy wykres parametrów pogodowych w roku 2022 dla Seattle. Możemy tu zauważyć pewne podobieństwo wykresu wahań temperatury na przestrzeni roku oraz liczby rowerzystów przejeżdżających przez most w ciągu roku. Podobną korelację, tym razem ujemną, można zauważyć zestawiając ilość opadów oraz ruch rowerowy w ciągu roku. \"Na oko\" z prędkością wiatru nie można stwierdzić żadnej korelacji.\n",
    "    \n",
    "---\n",
    "### Korelacja\n",
    "    \n",
    "![](corr1.png)\n",
    "<br /> <center>*Od lewej: wykres korelacji oraz wykres współczynnika determinacji liniowej dla zależności ruchu rowerowego od parametrów pogodowych*<center/> <br />\n",
    "\n",
    "Wspominając wcześniej o korelacji nie można było jej nie zbadać. Na powyższym wykresie, po lewej stronie, przedstawiono właśnie wykres korelacji z naniesionymi wartościami. Można zauważyć dużą dodatnią korelację z temperaturą, czy to minimalną, maksymalną czy średnią. Dodatkowo, co z resztą wiąże się też z temperaturą, występuje negatywna korelacja między ruchem rowerowym, a pokryciem nieba chmurami. Także negatywna korelacja występuje, jak zauważono na poprzednich wykresach, pomiędzy ilością opadów a ruchem rowerowym na moście. <br />\n",
    "Po prawej stronie figury umieszczono wykres informujący o wartości współczynnika determinacji liniowej. Ma on stosunkowo wysokie wartości dla zależności między temperaturą a ruchem rowerowym, co oznacza, że zmienne te mogą również \"w miarę dobrze\" objaśniać ilość ruchu rowerowego w modelu. Ma on bardzo niskie wartości dla zależności dotyczących opadów śniegu oraz prędkości wiatru, co znaczy, że tymi zmiennymi nie dałoby się modelować ruchu rowerowego na moście.\n",
    "    \n",
    "![](corr2.png)\n",
    "<br /> <center>*Od lewej: wykres korelacji oraz wykres współczynnika determinacji liniowej dla zależności pomiędzy parametrami pogodowymi*<center/> <br />\n",
    "\n",
    "Tak jak zauważono na poprzednim wykresie, także tutaj, na lewym wykresie, widać dużą negatywną korelację między temperaturą a pokryciem nieba chmurami. Występuje duża korelacja między maksymalną, minimalną i średnią temperaturą oraz pomiędzy średnią a maksymalną prędkością wiatru. Oznacza to, że danego dnia amplituda temperetury nie jest duża, minimum jest \"bliskie\" maksimum, podobnie w przypadku wiatru. Co ciekawe na przykład w przypadku opadów śniegu, a ilości jaka pozostanie nie można tego powiedzieć. Mikroklimat na moście, na który oddziałuje znajdująca się pod nim woda, sprawia, że mimo opadów śniegu, niewiele go zostaje i bardzo szybko topnieje, ponieważ rzeka ogrzewa tamtejsze powietrze. <br />\n",
    "W przypadku wykresu współczynnika determinacji liniowej można stwierdzić, że najmniejszą wariancję mają zależności między poszczególnymi parametrami temperatury oraz prędkości wiatru. Pozostałe wartości nie nadawałyby się do przewidywania siebie nawzajem w modelu.\n",
    "---\n",
    "### Regresja\n",
    "\n",
    "![](linear.png)\n",
    "<br /> *Scatterploty całkowitego ruchu rowerowego od parametrów pogodowych z nałożonymi liniami regresji liniowej* <br />\n",
    "    \n",
    "Na powyższym wykresie przedstawiono przybliżenie modelu za pomocą regresji liniowej. Tak jak zostało to poprzednio zauważone, najlepiej ruch rowerzystów objaśniają parametry dotyczące temperatury oraz wiatru. Nie najgorzej spawdza się też zachmurzenie, które to zbiega się z temperaturą, lecz tu można by użyć innego rodzaju regresji - bardziej łukowego. Linia regersji dla parametrów takich jak opady deszczu, śniegu czy prędkość wiatru zupełnie nie objaśnia zależności od ruchu rowerowego na moście, a odległości linii od punktów, czyli błąd dopasowania, są gigantyczne.\n",
    "    \n",
    "![](curvilinear.png)\n",
    "<br /> *Scatterploty całkowitego ruchu rowerowego od parametrów pogodowych z nałożonymi liniami regresji krzywoliniowej* <br />\n",
    "    \n",
    "W przypadku niektórych zmiennych lepiej niż regresja liniowa sprawdzi się regresja krzywoliniowa. Na przykład dla opadów deszczu, linia regresji w regresji liniowej była bardzo słabo dopasowana, przez co nie można było uznać tego za dobry model. Dla regresji krzywoliniowej jest zupełnie inaczej - linia regersji krzywoliniowej dobrze objaśnia wartości i przylega do punktów. Dodatkowym czynnikiem potwierdzającym, że opady deszczu są dobrym czynnikiem objaśniającym ruch rowerowy, oprócz logiki, jest całkiem wysoki współczynnik korelacji na poziomie ok. -0.45. Badając tę zależność od zachmurzenia, również można stwierdzić, że krzywa linia jest lepiej dopasowana do wartości czynnika, przez co, jeśli chcemy wykorzystać go w modelu, należy użyć regresji krzywoliniowej zamiast liniowej.\n",
    "    \n",
    "---\n",
    "    \n",
    "### Podsumowanie\n",
    "Czynniki pogodowe mają istotny wpływ na jazdę rowerem na moście Freemont Bridge w Seattle. Tak jak mogliśmy się spodziewać, jeśli jest zimno, podchmurnie i pada, ludzie wybierają alternatywne środki komunikacji. Występuje też bardzo duża zależność ruchu rowerowego od pory dnia, z czego można wywnioskować, że wielu wybiera rower jako środek transportu do i z pracy. Ruch w dni robocze i w weekendy jest z goła inny i ukazuje, że więcej tamtejszych rowerzystów jeździ rowerem w dni robocze do pracy, niż w ramach wypoczynku i przyjemności w weekendy. Ruch w te dni rozkłada się też zupełnie inaczej, co można wykorzystać do zwiększenia bezpieczeństwa na tamtejszych trasach stosując np. patrole o konkretnych porach w dane dni oraz może to posłużyć między innymi dla właścicieli sklepów i serwisów rowerowych, w celu zwiększenia liczebności personelu i zaopatrzenia w okresach zwiększonego ruchu."
   ]
  }
 ],
 "metadata": {
  "kernelspec": {
   "display_name": "Python 3 (ipykernel)",
   "language": "python",
   "name": "python3"
  },
  "language_info": {
   "codemirror_mode": {
    "name": "ipython",
    "version": 3
   },
   "file_extension": ".py",
   "mimetype": "text/x-python",
   "name": "python",
   "nbconvert_exporter": "python",
   "pygments_lexer": "ipython3",
   "version": "3.9.16"
  }
 },
 "nbformat": 4,
 "nbformat_minor": 5
}
