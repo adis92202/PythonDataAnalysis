{
 "cells": [
  {
   "cell_type": "markdown",
   "id": "162d3e35",
   "metadata": {
    "deletable": false,
    "editable": false,
    "nbgrader": {
     "cell_type": "markdown",
     "checksum": "4d87ed846e09cbf1c8eae4e0f16bea9b",
     "grade": false,
     "grade_id": "cell-fcd2666579131b77",
     "locked": true,
     "schema_version": 3,
     "solution": false,
     "task": false
    },
    "tags": []
   },
   "source": [
    "# Analiza danych w języku Python - ćwiczenia laboratoryjne 2022/2023\n",
    "\n",
    "Ten notatnik zalicza się do grupy zestawów zadań, na podstawie których odbywa się zaliczenie ćwiczeń i podlega zwrotowi do oceny w ustalonym na zajęciach terminie.\n",
    "\n",
    "Uwagi i wytyczne ogólne dotyczące uzupełniania i oceny notatnika:\n",
    "- Podczas wykonywania zadań należy korzystać wyłącznie z pakietów zaimportowanych na początku notatnika oraz z pakietów wchodzących w skład standardowej biblioteki Pythona, które można zaimportować samodzielnie we wskazanej komórce notatnika.\n",
    "- Swoje rozwiązania należy wprowadzać wyłącznie w miejce następujących fragmentów kodu:<br/> `# YOUR CODE HERE`<br/> `raise NotImplementedError()`<br/> \n",
    "a odpowiedzi tekstowe w komórkach oznaczonych hasłem:<br/> \n",
    "`YOUR ANSWER HERE`<br/> \n",
    "Nie należy w żaden sposób modyfikować pozostałych fragmentów kodu oraz innych elementów notatnika, w szczególności dodawać lub usuwać komórek oraz zmieniać nazwy pliku.\n",
    "- Jeżeli zestaw zadań wymaga skorzystania z fragmentów kodu opracowanego w ramach wcześniejszych zestawów zadań należy je umieścić we wskazanej komórce notatnika.\n",
    "- Otrzymywane wyniki i odpowiedzi mają być rezultatem wykonania napisanego kodu, odpowiedzi uzupełniane manualnie nie podlegają ocenie.\n",
    "- Zadanie należy wykonać w taki sposób, aby podczas wykonywania kodu nie zostały wyświetlone żadne ostrzeżenia.\n",
    "- Zawarte w notatniku automatyczne testy mają charakter poglądowy. Dotyczą one wybranych aspektów zadań i mają za zadanie wyłapać podstawowe błędy. Przejście wszystkich testów nie oznacza, że zadanie jest wykonane w całości poprawnie i zostanie ocenione na maksymalną liczbę punktów.\n",
    "- Zadania, które powodują wyświetlenie komunikatu o błędzie przerywającym wykonywanie kodu nie podlegają ocenie.\n",
    "\n",
    "Uwagi i wytyczne ogólne dotyczące wizualizacji wyników:\n",
    "- Wszystkie wykresy powinny być wykonane w jednolitym, przejrzystym i czytelnym stylu, posiadać odpowiednio dobrane proporcje i zakresy wartości osi.\n",
    "- Wykresy oraz ich osie powinny mieć nadane tytuły. Jeżeli w obrębie figury znajduje się więcej niż jeden wykres to figura również powinna mieć nadany tytuł. \n",
    "- Figury powinny mieć ustawione białe tło, tak, aby niezależnie od ustawień notatnika wszystkie elementy wykresów były dobrze widoczne (domyślnie tło jest przeźroczyste co może powodować problemy w notatnikach z ustawionym ciemnym tłem).\n",
    "- Rozmiar poziomy figur nie powinien przekraczać 20 cali.\n",
    "\n",
    "Przed odesłaniem zestawu zadań do oceny proszę uzupełnić komórkę z danymi autorów rozwiązania (`NAME` - nazwa zespołu, `COLLABORATORS` - imiona, nazwiska i numery indeksów członków zespołu) oraz upewnić się, że notatnik działa zgodnie z oczekiwaniami. W tym celu należy skorzystać z opcji **Restart Kernel and Run All Cells...** dostępnej na górnej belce notatnika pod symbolem $\\blacktriangleright\\blacktriangleright$."
   ]
  },
  {
   "cell_type": "code",
   "execution_count": 1,
   "id": "29902ee8",
   "metadata": {},
   "outputs": [],
   "source": [
    "NAME = \"IAD21\"\n",
    "COLLABORATORS = \"Ewa Szewczyk 406923, Adam Piwowarski 408133\""
   ]
  },
  {
   "cell_type": "markdown",
   "id": "7dc7d5ac",
   "metadata": {
    "deletable": false,
    "editable": false,
    "nbgrader": {
     "cell_type": "markdown",
     "checksum": "eddc8826810e4a6f7bf68319da334bd9",
     "grade": false,
     "grade_id": "cell-109006d425e5cf83",
     "locked": true,
     "schema_version": 3,
     "solution": false,
     "task": false
    },
    "tags": []
   },
   "source": [
    "---"
   ]
  },
  {
   "cell_type": "markdown",
   "id": "3dc8b5f1-8b22-4781-876f-27826679533d",
   "metadata": {
    "deletable": false,
    "editable": false,
    "nbgrader": {
     "cell_type": "markdown",
     "checksum": "a068a28968a6b3cff36875b86660282b",
     "grade": false,
     "grade_id": "cell-a12f05a1065ccf65",
     "locked": true,
     "schema_version": 3,
     "solution": false,
     "task": false
    },
    "tags": []
   },
   "source": [
    "## Zestaw zadań 1: Elementy statystyki opisowej 1 (Notatnik 4/4)"
   ]
  },
  {
   "cell_type": "code",
   "execution_count": 2,
   "id": "a0f0ba49-958b-41f6-befc-cf77d7364345",
   "metadata": {
    "deletable": false,
    "editable": false,
    "nbgrader": {
     "cell_type": "code",
     "checksum": "9c1f9f1a79efb2ea5cdbaa8129434777",
     "grade": false,
     "grade_id": "cell-50608d099c9a113d",
     "locked": true,
     "schema_version": 3,
     "solution": false,
     "task": false
    },
    "tags": []
   },
   "outputs": [],
   "source": [
    "import numpy as np\n",
    "import pandas as pd\n",
    "import scipy as sp\n",
    "import matplotlib as mpl\n",
    "import matplotlib.pyplot as plt\n",
    "import seaborn as sns\n",
    "import dataframe_image as dfi"
   ]
  },
  {
   "cell_type": "code",
   "execution_count": 3,
   "id": "3afcbcf4-e4a1-4435-a432-bbc51129910d",
   "metadata": {
    "tags": []
   },
   "outputs": [],
   "source": [
    "# Miejsce do importu pakietów wchodzących w skład standardowej biblioteki Pythona oraz ustawienie opcji wykorzystywanych pakietów"
   ]
  },
  {
   "cell_type": "markdown",
   "id": "73cb2852-79f3-4f76-9303-a091a9be7623",
   "metadata": {
    "deletable": false,
    "editable": false,
    "nbgrader": {
     "cell_type": "markdown",
     "checksum": "11262c4b36981de4db8361e5aba36643",
     "grade": false,
     "grade_id": "cell-7e0c91af7d9408af",
     "locked": true,
     "schema_version": 3,
     "solution": false,
     "task": false
    },
    "tags": []
   },
   "source": [
    "### Zadanie 7: Analiza wyników [13 pkt]\n",
    "Scharakteryzuj wulkanizm ziemski na podstawie wyników analizy przeprowadzonej we wcześniejszych zadaniach zgodnie z poniższymi wytycznymi:\n",
    "- Umieść treść analizy w pojedynczej komórce Markdown. Oprócz tekstu wklej do niej wszystkie wykresy i tablice, do których odnosi się analiza.\n",
    "- W analizie oprzyj się przede wszystkim o tablice i grafiki przygotowane w ramach zadań 4-6 (niezbędne minimum).\n",
    "- Nie ograniczaj się wyłącznie do stwierdzeń typu \"zostało zarejestrowanych więcej erupcji o wartości VEI 6 niż 7\", tam gdzie to możliwe spróbuj wyciągnąć szersze, dalej idące wnioski o badanym zjawisku.\n",
    "- Wskaż problemy w analizie przeprowadzonej w ramach wykonanych wcześniej zadań i zaproponuj jakie zmiany należy do niej wprowadzić w celu ich rozwiązania.\n",
    "- Jeżeli widzisz taką potrzebę możesz wygenerować dodatkowe tablice i grafiki, w takim przypadku generujący je kod powinien zostać umieszczony w komórce poprzedzającej komórkę z treścią analizy.\n",
    "\n",
    "Wskazówki dotyczące pozyskiwania i wklejania grafik do komórki markdown:\n",
    "- przygotowane wykresy można zapisać do plików za pomocą kodu: `fig.savefig('image.png')`, gdzie `fig` to zmienna zawierająca wykres przygotowany z wykorzystaniem plt.subplots(), a `'image.png'` to nazwa pliku, do którego ma zostać zapisana.\n",
    "- przygotowane tablice można zapisać do plików za pomocą kodu: `dfi.export(styled_df, 'df.png')`, gdzie `styled_df` to zmienna zawierająca odpowiednio sformatowaną tablicę, a `'df.png'` to nazwa pliku, do którego ma zostać zapisana.\n",
    "- zapisane do plików grafiki można wklejać do komórki markdown za pomocą następującej formuły: `![](table.png)`, gdzie `table.png` to nazwa pliku, do którego ma zostać wstawiony do komórki.\n",
    "\n",
    "Po wygenerowaniu plików z grafikami nie należy uzuwać z notatników kodu wykorzystanego podczas ich przygotowywania, w tym formuł `fig.savefig()` i `dfi.export()`."
   ]
  },
  {
   "cell_type": "code",
   "execution_count": 6,
   "id": "e789ed69-15b2-4b3e-8ff0-41e7137b6f60",
   "metadata": {
    "deletable": false,
    "nbgrader": {
     "cell_type": "code",
     "checksum": "cd1defe85c11b81f3bab287cb8e11697",
     "grade": true,
     "grade_id": "cell-06546aa663f7c060",
     "locked": false,
     "points": 0,
     "schema_version": 3,
     "solution": true,
     "task": false
    },
    "tags": []
   },
   "outputs": [
    {
     "name": "stdout",
     "output_type": "stream",
     "text": [
      "11.603641456582633\n",
      "6187\n"
     ]
    }
   ],
   "source": [
    "# Miejsce na dodatkowy kod\n",
    "# YOUR CODE HERE\n",
    "\n",
    "eruptions_data = pd.read_csv('eruptions_data.csv', index_col='Eruption Number')\n",
    "most_active_data = eruptions_data['Volcano Name'].value_counts().reset_index()\n",
    "most_active_data = most_active_data.rename(columns={'index':'Volcano', 'Volcano Name': 'Recorded eruptions'}) \\\n",
    "    .sort_values(by=['Recorded eruptions', 'Volcano'], ascending=[False, True])\n",
    "\n",
    "print(most_active_data['Recorded eruptions'].mean())\n",
    "\n",
    "observations = eruptions_data[eruptions_data['Evidence Type'] == 'Observations']['Volcano Name'].count()\n",
    "print(observations)\n",
    "\n",
    "# raise NotImplementedError()"
   ]
  },
  {
   "cell_type": "markdown",
   "id": "79045acb-3c92-4e3e-a418-d020c5375d69",
   "metadata": {
    "deletable": false,
    "nbgrader": {
     "cell_type": "markdown",
     "checksum": "a9cd4b09ab5139fd50e3b90a537a35a2",
     "grade": true,
     "grade_id": "cell-152c404baa500092",
     "locked": false,
     "points": 13,
     "schema_version": 3,
     "solution": true,
     "task": false
    },
    "tags": []
   },
   "source": [
    "YOUR ANSWER HERE\n",
    "# Analiza aktywności sejsmicznej\n",
    "### Ogólniki i ciekawostki\n",
    "![](10_most_active.png)\n",
    "<br />*Tabela zawierająca 10 najaktywniejszych wulkanów*\n",
    "\n",
    "<br />Zgodnie z powyższą tabelą wulkany o najwyższej aktywności wybuchały nawet 191 razy (Fournaise, Piton de la), co jest wynikiem znacząco wyższym od średniej wynoszącej 11.6 razy.<br />\n",
    "\n",
    "![](last_eruption_data.png)\n",
    "<br />*Lata najnowszych erupcji pogrupowane wg skali VEI*\n",
    "\n",
    "<br />Siła erupcji określana za pomocą VEI w skali od 0 do 7 jest prawdopodobnie najistotniejszym elementem analizy. Jak przedstawia powyższa tabela najsilniejsze erupcje wystąpiły w naszym zbiorze danych ponad 30, a najsilniejsza (VEI=7) ponad 200 lat temu. <br /> \n",
    "\n",
    "### Analiza\n",
    "W tej sekcji przedstawiona zostanie analiza częstości występowania erupcji oraz metod ich wykrywania uwzględniając podział według skali VEI.\n",
    "\n",
    "![](vei_data.png)\n",
    "<br /> *Tabela zawierająca odpowiednio zliczenia, zliczenia skumulowane, częstości i częstości skumulowane erupcji z podziałem na ich kategorie oraz siłę*\n",
    "![](02_szeregi.png)\n",
    "<br /> *Wykresy ilości erupcji z podziałem wg skali VEI z nałożoną linią częstości skumulowanej; od lewej: wszystkie erupcje, potwierdzone, niepotwierdzone*\n",
    "\n",
    "Przechodząc do analizy częstości występowania erupcji widzimy, że najczętszymi erupcjami są te o VEI równym 2 - aż 3991 takich przypadków. Na wszystkich trzech wykresach można zauważyć, że częstość skumulowana zliczeń rośnie gwałtownie, aż do VEI równego 3 - odtąd występuje wypłaszczenie. Powinna to być dla nas dobra informacja: silniejsze erupcje (o VEI>3) zdarzają się zauważalnie rzadziej.<br /> \n",
    "Dodatkowo zgodnie z tabelą oraz pierwszym od prawej wykresem, prawie 8% wszystkich erupcji jest niepotwierdzone. W związku z tym możemy nie uwzględniać tych danych w ewentualnych dalszych analizach - mogą to być dane przypadkowe/błędne powodujące zaburzenia różnych badanych cech i właściwości. Nie ma za to niepotwierdzonych erupcji o VEI > 4. Wynika to prawdopodobnie z tego, że silniejsza erupcja powinna być zarejestrowana przez więcej czujników czy też po prostu bardziej zauważona przez ludzi, a jeśli chodzi o te z przeszłości - zapewne pozostawiłaby odpowiednią ilość śladów.<br />\n",
    "\n",
    "---\n",
    " <br /> \n",
    "\n",
    "![](evidence_data.png)\n",
    "<br /> *Tabela zestawiająca ze sobą wszystkie typy i metody ewidencjonowania erupcji z podziałem wg skali VEI*\n",
    "![](03_metody.png)\n",
    "<br />*Wizualizacja rozkładu zarejestrowanych erupcji w czasie (dolna dodatkowo z podziałem na wykorzystane metody*\n",
    "\n",
    "Biorąc pod uwagę typy ewidencjonowania, zdecydowanie najpopularniejszym jest zwykła obserwacja - aż 6187 przypadków. Natomiast w wykrywaniu erupcji z przeszłości prym wiodą metody izotopowe, a wśród nich metoda 14C (skalibrowana). Jak możemy zauważyć na powyższym wykresie, w ostatnich latach główną metodą ewidencjonowania jest zwykła obserwacja. Wynika to najprawdopodobniej z tego, że w dzisiejszych czasach wiele erupcji jest zauważanych przez wyspecjalizowane do tego czujniki rozlokawane na odpowiednich obszarach, które natychmiast raportują nawet najmniejsze drgania. Kiedyś ludzkość nie dysponowała takimi metodami oraz po prostu była mniej świadoma - zapewne niektóre erupcje mogły odbyć się \"niepostrzeżenie\" lub być odczytana jako np. gniew bogów. Nawet jeśli były one jakoś ewidencjonowane, niewiele z tych dokumentów przetrwało do dziś.\n",
    "\n",
    "### Co można poprawić\n",
    "Aby zwiększyć ciekawość tej analizy można by dodać dokładniejsze zbadanie metod ewidencjonowania w zależności od początkowego roku erupcji - przyniosłoby to istotne dla niezaznajomionych z sejsmiką osób informacje, kiedy jaką metodę się wykorzystuje. Dla starszych erupcji, jeśli pozwoliłyby dane, można by również badać użytą metodę w zależności od roku startowego i końcowego - czasu trwania drgań.<br />\n",
    "Ciekawe byłoby również sprawdzenie, które wulkany najczęściej wybuchają oraz, czy każdy wulkan ma jakąś swoją charakterystykę, np. erupcje są słabe, ale bardzo rozległe w czasie, czy też szybkie i gwałtowne - czy może jest to kwestia losowa."
   ]
  },
  {
   "cell_type": "code",
   "execution_count": null,
   "id": "f62cf1a6-85e7-4bfc-ac9e-4981b183b4c5",
   "metadata": {},
   "outputs": [],
   "source": []
  }
 ],
 "metadata": {
  "kernelspec": {
   "display_name": "Python 3 (ipykernel)",
   "language": "python",
   "name": "python3"
  },
  "language_info": {
   "codemirror_mode": {
    "name": "ipython",
    "version": 3
   },
   "file_extension": ".py",
   "mimetype": "text/x-python",
   "name": "python",
   "nbconvert_exporter": "python",
   "pygments_lexer": "ipython3",
   "version": "3.9.16"
  }
 },
 "nbformat": 4,
 "nbformat_minor": 5
}
