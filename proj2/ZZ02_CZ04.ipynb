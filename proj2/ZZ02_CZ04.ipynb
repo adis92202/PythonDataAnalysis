{
 "cells": [
  {
   "cell_type": "markdown",
   "id": "4ac587d6",
   "metadata": {
    "deletable": false,
    "editable": false,
    "nbgrader": {
     "cell_type": "markdown",
     "checksum": "4d87ed846e09cbf1c8eae4e0f16bea9b",
     "grade": false,
     "grade_id": "cell-fcd2666579131b77",
     "locked": true,
     "schema_version": 3,
     "solution": false,
     "task": false
    },
    "tags": []
   },
   "source": [
    "# Analiza danych w języku Python - ćwiczenia laboratoryjne 2022/2023\n",
    "\n",
    "Ten notatnik zalicza się do grupy zestawów zadań, na podstawie których odbywa się zaliczenie ćwiczeń i podlega zwrotowi do oceny w ustalonym na zajęciach terminie.\n",
    "\n",
    "Uwagi i wytyczne ogólne dotyczące uzupełniania i oceny notatnika:\n",
    "- Podczas wykonywania zadań należy korzystać wyłącznie z pakietów zaimportowanych na początku notatnika oraz z pakietów wchodzących w skład standardowej biblioteki Pythona, które można zaimportować samodzielnie we wskazanej komórce notatnika.\n",
    "- Swoje rozwiązania należy wprowadzać wyłącznie w miejce następujących fragmentów kodu:<br/> `# YOUR CODE HERE`<br/> `raise NotImplementedError()`<br/> \n",
    "a odpowiedzi tekstowe w komórkach oznaczonych hasłem:<br/> \n",
    "`YOUR ANSWER HERE`<br/> \n",
    "Nie należy w żaden sposób modyfikować pozostałych fragmentów kodu oraz innych elementów notatnika, w szczególności dodawać lub usuwać komórek oraz zmieniać nazwy pliku.\n",
    "- Jeżeli zestaw zadań wymaga skorzystania z fragmentów kodu opracowanego w ramach wcześniejszych zestawów zadań należy je umieścić we wskazanej komórce notatnika.\n",
    "- Otrzymywane wyniki i odpowiedzi mają być rezultatem wykonania napisanego kodu, odpowiedzi uzupełniane manualnie nie podlegają ocenie.\n",
    "- Zadanie należy wykonać w taki sposób, aby podczas wykonywania kodu nie zostały wyświetlone żadne ostrzeżenia.\n",
    "- Zawarte w notatniku automatyczne testy mają charakter poglądowy. Dotyczą one wybranych aspektów zadań i mają za zadanie wyłapać podstawowe błędy. Przejście wszystkich testów nie oznacza, że zadanie jest wykonane w całości poprawnie i zostanie ocenione na maksymalną liczbę punktów.\n",
    "- Zadania, które powodują wyświetlenie komunikatu o błędzie przerywającym wykonywanie kodu nie podlegają ocenie.\n",
    "\n",
    "Uwagi i wytyczne ogólne dotyczące wizualizacji wyników:\n",
    "- Wszystkie wykresy powinny być wykonane w jednolitym, przejrzystym i czytelnym stylu, posiadać odpowiednio dobrane proporcje i zakresy wartości osi.\n",
    "- Wykresy oraz ich osie powinny mieć nadane tytuły. Jeżeli w obrębie figury znajduje się więcej niż jeden wykres to figura również powinna mieć nadany tytuł. \n",
    "- Figury powinny mieć ustawione białe tło, tak, aby niezależnie od ustawień notatnika wszystkie elementy wykresów były dobrze widoczne (domyślnie tło jest przeźroczyste co może powodować problemy w notatnikach z ustawionym ciemnym tłem).\n",
    "- Rozmiar poziomy figur nie powinien przekraczać 20 cali.\n",
    "\n",
    "Przed odesłaniem zestawu zadań do oceny proszę uzupełnić komórkę z danymi autorów rozwiązania (`NAME` - nazwa zespołu, `COLLABORATORS` - imiona, nazwiska i numery indeksów członków zespołu) oraz upewnić się, że notatnik działa zgodnie z oczekiwaniami. W tym celu należy skorzystać z opcji **Restart Kernel and Run All Cells...** dostępnej na górnej belce notatnika pod symbolem $\\blacktriangleright\\blacktriangleright$."
   ]
  },
  {
   "cell_type": "code",
   "execution_count": 1,
   "id": "a26c11db",
   "metadata": {},
   "outputs": [],
   "source": [
    "NAME = \"IAD21\"\n",
    "COLLABORATORS = \"Ewa Szewczyk 406923, Adam Piwowarski 408133\""
   ]
  },
  {
   "cell_type": "markdown",
   "id": "d00cbbeb",
   "metadata": {
    "deletable": false,
    "editable": false,
    "nbgrader": {
     "cell_type": "markdown",
     "checksum": "eddc8826810e4a6f7bf68319da334bd9",
     "grade": false,
     "grade_id": "cell-109006d425e5cf83",
     "locked": true,
     "schema_version": 3,
     "solution": false,
     "task": false
    },
    "tags": []
   },
   "source": [
    "---"
   ]
  },
  {
   "cell_type": "markdown",
   "id": "3dc8b5f1-8b22-4781-876f-27826679533d",
   "metadata": {
    "deletable": false,
    "editable": false,
    "nbgrader": {
     "cell_type": "markdown",
     "checksum": "3cc8e0af44c671714a0db4b7877d5ad4",
     "grade": false,
     "grade_id": "cell-a12f05a1065ccf65",
     "locked": true,
     "schema_version": 3,
     "solution": false,
     "task": false
    },
    "tags": []
   },
   "source": [
    "## Zestaw zadań 2: Elementy statystyki opisowej 2 (Notatnik 4/4)"
   ]
  },
  {
   "cell_type": "code",
   "execution_count": 2,
   "id": "a0f0ba49-958b-41f6-befc-cf77d7364345",
   "metadata": {
    "deletable": false,
    "editable": false,
    "nbgrader": {
     "cell_type": "code",
     "checksum": "9c1f9f1a79efb2ea5cdbaa8129434777",
     "grade": false,
     "grade_id": "cell-50608d099c9a113d",
     "locked": true,
     "schema_version": 3,
     "solution": false,
     "task": false
    },
    "tags": []
   },
   "outputs": [],
   "source": [
    "import numpy as np\n",
    "import pandas as pd\n",
    "import scipy as sp\n",
    "import matplotlib as mpl\n",
    "import matplotlib.pyplot as plt\n",
    "import seaborn as sns\n",
    "import dataframe_image as dfi"
   ]
  },
  {
   "cell_type": "code",
   "execution_count": 3,
   "id": "3afcbcf4-e4a1-4435-a432-bbc51129910d",
   "metadata": {
    "tags": []
   },
   "outputs": [],
   "source": [
    "# Miejsce do importu pakietów wchodzących w skład standardowej biblioteki Pythona oraz ustawienie opcji wykorzystywanych pakietów"
   ]
  },
  {
   "cell_type": "markdown",
   "id": "73cb2852-79f3-4f76-9303-a091a9be7623",
   "metadata": {
    "deletable": false,
    "editable": false,
    "nbgrader": {
     "cell_type": "markdown",
     "checksum": "da4a3fda1a35149f6b8e192efb4f338c",
     "grade": false,
     "grade_id": "cell-7e0c91af7d9408af",
     "locked": true,
     "schema_version": 3,
     "solution": false,
     "task": false
    },
    "tags": []
   },
   "source": [
    "### Zadanie 6: Analiza wyników [15 pkt]\n",
    "Scharakteryzuj przebieg kryzysu ekonomicznego 2008-2009 na podstawie wyników analizy przeprowadzonej we wcześniejszych zadaniach zgodnie z poniższymi wytycznymi:\n",
    "- Umieść treść analizy w pojedynczej komórce Markdown. Oprócz tekstu wklej do niej wszystkie wykresy i tablice, do których odnosi się analiza.\n",
    "- W analizie oprzyj się przede wszystkim o tablice i grafiki przygotowane w ramach zadań 2-4. Nie wykorzystuj w analizie elementów przygotowanych w ramach zadania 5. Ma ono wyłącznie charakter demonstracji jak należy pracować, gdy nie są dostępne dane szczegółowe.\n",
    "- Nie powielaj elementów zawierających te same informacje (np. wykorzystanie wielu grafik z zadania 3b),\n",
    "- Zawrzyj w analizie wnioski odnośnie tego jak przebiegał kryzys w ujęciu ogólnoświatowym jak i wnioski odnoszące się do poszczególnych rejonów geograficznych i grup państw o zbliżonym stopniu zamożności (np. różnice i podobieństwa w tym, jak różne grupy państw przechodziły kryzys).\n",
    "- Analizując dane rozważ ich tendencję centralną, skupienie, koncentrację oraz asymetrię,\n",
    "- Nie ograniczaj się wyłącznie do stwierdzeń typu \"średnia wartość parametru GDP growth (annual %) jest najniższa w roku 2009\", tam gdzie to możliwe spróbuj wyciągnąć szersze, dalej idące wnioski o badanym zjawisku.\n",
    "- Wskaż problemy w analizie przeprowadzonej w ramach wykonanych wcześniej zadań i zaproponuj jakie zmiany należy do niej wprowadzić w celu ich rozwiązania.\n",
    "- Jeżeli widzisz taką potrzebę możesz wygenerować dodatkowe tablice i grafiki, w takim przypadku generujący je kod powinien zostać umieszczony w komórce poprzedzającej komórkę z treścią analizy.\n",
    "\n",
    "Wskazówki dotyczące pozyskiwania i wklejania grafik do komórki markdown:\n",
    "- przygotowane wykresy można zapisać do plików za pomocą kodu: `fig.savefig('image.png')`, gdzie `fig` to zmienna zawierająca wykres przygotowany z wykorzystaniem `plt.subplots()`, a `'image.png'` to nazwa pliku, do którego ma zostać zapisana.\n",
    "- przygotowane tablice można zapisać do plików za pomocą kodu: `dfi.export(styled_df, 'df.png')`, gdzie `styled_df` to zmienna zawierająca odpowiednio sformatowaną tablicę, a `'df.png'` to nazwa pliku, do którego ma zostać zapisana.\n",
    "- zapisane do plików grafiki można wklejać do komórki markdown za pomocą następującej formuły: `![](table.png)`, gdzie `table.png` to nazwa pliku, do którego ma zostać wstawiony do komórki.\n",
    "\n",
    "Po wygenerowaniu plików z grafikami nie należy uzuwać z notatników kodu wykorzystanego podczas ich przygotowywania, w tym formuł `fig.savefig()` i `dfi.export()`."
   ]
  },
  {
   "cell_type": "code",
   "execution_count": 4,
   "id": "e789ed69-15b2-4b3e-8ff0-41e7137b6f60",
   "metadata": {
    "tags": []
   },
   "outputs": [],
   "source": [
    "# Miejsce na dodatkowy kod"
   ]
  },
  {
   "cell_type": "markdown",
   "id": "79045acb-3c92-4e3e-a418-d020c5375d69",
   "metadata": {
    "deletable": false,
    "jp-MarkdownHeadingCollapsed": true,
    "nbgrader": {
     "cell_type": "markdown",
     "checksum": "aeaa48637c159e037354ad072c54f33c",
     "grade": true,
     "grade_id": "cell-152c404baa500092",
     "locked": false,
     "points": 15,
     "schema_version": 3,
     "solution": true,
     "task": false
    },
    "tags": []
   },
   "source": [
    "# Przebieg kryzysu ekonomicznego w latach 2008-2009\n",
    "\n",
    "Kryzys w latach 2008-2009 był jednym z największych kryzysów jaki przydażył się ludzkości od lat 30. XX wieku. Można to zauważyć m. in. analizując wartości przyrostu krajowego brutto (PKB) dla poszczególnych krajów. Wchodząc głębiej w analizę przypatrzmy się poniższemu wykresowi pudełkowemu. <br />\n",
    "\n",
    "![](boxplots_alldata.jpg)\n",
    "<br /> <center>*Wykres pudełkowy wzrostu GDP dla każdego kraju rok do roku*<center/> <br />\n",
    "    \n",
    "Pierwsze co można zauważyć to wyraźny spadek rocznego GDP w ujęciu rok do roku dla lat 2008-2009. Różnica między medianą dla roku 2008 a medianą dla roku 2007 wynosi ponad 3.5 punktu procentowego, a wartości średniej - około 2 punkty procentowe. Ta wyraźna różnica w PKB skutkuje faktem, że mniej państw ma przychody w średnich przedziałach wartości, a więcej w tych niskich. Dodatkowo zwiększył się rozstęp międzykwartylowy (IQR). Miara ta mówi nam, że niektóre państwa poradziły sobie z kryzysem lepiej, a inne gorzej, ale wszystkie na nim straciły. Niewątpliwie spowodowało to pogłębienie się różnic w jakości życia na świecie.\n",
    "    \n",
    "![](region.jpg)\n",
    "<br /> <center>*Wykres wartości PKB uwzględniający podział na regiony*<center/> <br />\n",
    "    \n",
    "Powyższy wykres aż nadto ukazuje, że najbardziej ucierpiała gospodarka europejska, amerykańska oraz azjatycka. To tam swoje siedziby mają instytucje finansowe i największe przedsiębiorstwa, które niewątpliwie odczuły kryzys. Afryka i Oceania, niezbyt powiązane z innymi gospodarkami, obroniły się przed inflacją. Może to wynikać z tego, że Afryka jest regionem rozwijającym się, z którego eksportuje się ropę naftową, której sektor nie ucierpiał w czasie tego krachu.\n",
    "    \n",
    "![](income.jpg)\n",
    "<br /> <center>*Wykres wartości PKB uwzględniający podział na grupy przychodów (L, LM, UM, H)*<center/> <br />\n",
    "    \n",
    "Wykres, który uwzględnia podział na grupy przychodów jeszcze mocniej utwierdza nas w przekonaniu, że kraje zakwalifikowane do tych o wysokim rocznym PKB najgorzej poradziły sobie z kryzysem - ponad 75% należącego do nich pudełka znajduje się wśród wartości ujemnych dla roku 2009 (oznacza to, że miały one ujemne PKB). Podobnie źle poradziły sobie kraje o przychodach określonych jako średnie wyższe. Dla roku 2009 zarówno ich mediana jak i średnia jest ujemna. Ponownie, na podstawie IQR widzimy, że zwiększyły się różnice w ogólnym stanie gospodarki.\n",
    "    \n",
    "![](liniowy.jpg)\n",
    "<br /> <center>*Wykres częstości PKB dla lat 2007-2009*<center/> <br />\n",
    "    \n",
    "Ponownie widać, że w latach 2008 i 2009 pogorszył się ogólny stan gospodarki na świecie - wykres wyraźnie przesunął się w lewo ku niższym wartościom przychodów. Wykres uległ równiesz wypłaszczeniu, co sugeruje większą dywersyfikację w dochodach poszczególnych państw.\n",
    "    \n",
    "![](statistics.jpg)\n",
    "<br /> <center>*Tabela wartości statystycznych PKB dla lat 2006-2011*<center/> <br />\n",
    "    \n",
    "Dobrym podsumowaniem powinna być przedstawiona powyżej tabela wartości statystycznych, która uwypukla okres kryzysu. Średnie PKB dla lat 2008 i 2009 było najniższe na przestrzeni badanego okresu czasu, a jednocześnie odchylenie standardowe było największe. Potwierdza się teza o różnicach w skutkach kryzysu dla poszczególnych państw. Wartości minimalne i maksymalne również były najmniejsze w tych latach, a kurtoza w roku 2009 najmniejsza z badanych lat."
   ]
  }
 ],
 "metadata": {
  "kernelspec": {
   "display_name": "Python 3 (ipykernel)",
   "language": "python",
   "name": "python3"
  },
  "language_info": {
   "codemirror_mode": {
    "name": "ipython",
    "version": 3
   },
   "file_extension": ".py",
   "mimetype": "text/x-python",
   "name": "python",
   "nbconvert_exporter": "python",
   "pygments_lexer": "ipython3",
   "version": "3.9.16"
  }
 },
 "nbformat": 4,
 "nbformat_minor": 5
}
